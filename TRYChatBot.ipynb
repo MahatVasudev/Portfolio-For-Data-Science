{
 "cells": [
  {
   "cell_type": "markdown",
   "id": "7f0deb68-2d97-4805-9ba3-2c4957d0e66d",
   "metadata": {},
   "source": [
    "# create a small chatbot"
   ]
  },
  {
   "cell_type": "code",
   "execution_count": 7,
   "id": "40091c46-d89a-4114-9127-a7e81214d3cf",
   "metadata": {},
   "outputs": [],
   "source": [
    "import numpy as np\n",
    "import pandas as pd\n",
    "import tensorflow.keras as tk\n",
    "import tensorflow.compat.v1 as tf\n",
    "import tensorflow as tens\n",
    "import nltk\n",
    "import speech_recognition as sr\n",
    "from gtts import gTTS\n",
    "import os\n",
    "import datetime as dt"
   ]
  },
  {
   "cell_type": "code",
   "execution_count": 42,
   "id": "c72a7f06-be54-4323-8f8b-eaf4a54c1c82",
   "metadata": {},
   "outputs": [],
   "source": [
    "import time"
   ]
  },
  {
   "cell_type": "code",
   "execution_count": 72,
   "id": "24633c7b-638f-490f-bf7c-3fc642210c13",
   "metadata": {},
   "outputs": [],
   "source": [
    "import transformers\n",
    "npl = transformers.pipeline(\"conversational\",model=\"microsoft/DialoGPT-medium\")"
   ]
  },
  {
   "cell_type": "code",
   "execution_count": 85,
   "id": "f111d849-868b-462e-97de-59bed782a165",
   "metadata": {},
   "outputs": [],
   "source": [
    "class Chatbot:\n",
    "    def __init__(self,name,lang = 'en'):\n",
    "        self.name = name\n",
    "        print(\"---- \\tstarting {}\\t ----\".format(self.name))\n",
    "        self.pad_token_id = 50256\n",
    "        self.error_token = False\n",
    "        self.chat_responses()\n",
    "        self.lang = lang\n",
    "    def chat_responses(self):\n",
    "        self.greetings_only = [\n",
    "            \"hmm...\",\"yes?\",\"good {}!, how can I help you?\".format(self.time_category())\n",
    "        ]\n",
    "        self.greetings = [\n",
    "            \"Hello\",\"good {}!\".format(self.time_category()),\"yes,\"\n",
    "        ]\n",
    "        self.appreciation = [\n",
    "            \"Your Welcome!\",\"AnyTime\",\"No Problem!\",\"Cool!\",\"I am here if you need me\"\n",
    "        ]\n",
    "        self.error_response = [\n",
    "            'Sorry, come again?','Sorry I didnt get you, can you try again?',\"I didnt understand what you were saying\"\n",
    "        ]\n",
    "        self.parting = [\n",
    "            'It was great talking to you!','Lets talk again later!','Bye Bye'\n",
    "        ]\n",
    "        self.only_greet = [\n",
    "            \"hello {}\".format(self.name),\"{}\".format(self.name),\"hey {}\".format(self.name)\n",
    "        ]\n",
    "    def wakeup(self,text):\n",
    "        return True if self.name in text.lower() else False\n",
    "    def speech_to_text(self):\n",
    "        recogniser = sr.Recognizer()\n",
    "        with sr.Microphone() as mic:\n",
    "            recogniser.adjust_for_ambient_noise(mic,duration=1)\n",
    "            print(\"Listening\")\n",
    "            audio = recogniser.listen(mic)\n",
    "            self.error_token = True\n",
    "        try:\n",
    "            self.error_token = False\n",
    "            self.text = recogniser.recognize_google(audio)\n",
    "            print(\"you said: {}\".format(self.text))\n",
    "            return self.text\n",
    "        except:\n",
    "            raise ConnectionError(\"error Found\")\n",
    "    def text_to_speech(self,text):\n",
    "        print(\"{:1} --> {:2}\".format(self.name,text))\n",
    "        speaker = gTTS(text=text,lang=self.lang,slow=False)\n",
    "        speaker.save('res.mp3')\n",
    "        os.system('start res.mp3')\n",
    "        statbuff = os.stat('res.mp3')\n",
    "        sz = statbuff.st_size / 1024\n",
    "        duration = sz / 200\n",
    "        time.sleep(int(60*duration))\n",
    "        os.remove('res.mp3')\n",
    "    def actiontime(self):\n",
    "        return \"It is now \" + dt.datetime.now().strftime(\"%Y/%m/%d %H:%M\")\n",
    "    @staticmethod\n",
    "    def __choice(arr):\n",
    "        return np.random.choice(arr)\n",
    "    @staticmethod\n",
    "    def time_category():\n",
    "        tag = \"\"\n",
    "        k = int(dt.datetime.now().time().strftime(\"%H\"))\n",
    "        if 0 <= k <= 3 or 17 <= k <= 23:\n",
    "            tag = \"Evening\"\n",
    "        elif 4 <= k <= 11:\n",
    "            tag = \"Morning\"\n",
    "        elif 12 <= k <= 16:\n",
    "            tag = \"Afternoon\"\n",
    "\n",
    "        return tag\n",
    "    def language_model(self):\n",
    "        output = str(npl(transformers.Conversation(self.text),pad_token_id=self.pad_token_id))\n",
    "        return output[output.find('bot >>')+6:].strip()\n",
    "    def start(self):\n",
    "        game = True\n",
    "        while game:\n",
    "            self.speech_to_text()\n",
    "            res = ''\n",
    "            somethingelse = True\n",
    "            complexbye= any(i in self.text.lower() for i in ['bye', 'see you later', 'talk to you later'])\n",
    "            if self.wakeup(self.text):\n",
    "                if self.text in self.only_greet:\n",
    "                    res = self.__choice(self.greetings_only)\n",
    "                else:\n",
    "                    res = res + self.__choice(self.greetings)\n",
    "                somethingelse = False\n",
    "            if 'time' in self.text.lower():\n",
    "                res = res +\" \"+ self.actiontime() +\".\"\n",
    "                somethingelse = False\n",
    "            if any(i in self.text.lower() for i in [\"thank you\",\"thanks\",\"thank\"]):\n",
    "                res = res + \" \" + self.__choice(self.appreciation)\n",
    "                somethingelse = False\n",
    "            if self.text.lower() in ['exit','close','bye','bye bye','see you later', 'talk to you later'] or complexbye:\n",
    "                res = self.__choice(self.parting)\n",
    "                somethingelse = False\n",
    "                game = False\n",
    "            if somethingelse:\n",
    "                if self.error_token:\n",
    "                    res = self.__choice(self.error_response)\n",
    "                else:\n",
    "                    res = self.language_model()\n",
    "            self.text_to_speech(res)\n",
    "        print(\"---- \\tClosing down {}\\t ----\".format(self.name))"
   ]
  },
  {
   "cell_type": "code",
   "execution_count": 86,
   "id": "30af53bd-af28-4c45-8b30-5eed764ebbf3",
   "metadata": {},
   "outputs": [
    {
     "name": "stdout",
     "output_type": "stream",
     "text": [
      "---- \tstarting crayons ----\n",
      "Listening\n"
     ]
    },
    {
     "name": "stderr",
     "output_type": "stream",
     "text": [
      "A decoder-only architecture is being used, but right-padding was detected! For correct generation results, please set `padding_side='left'` when initializing the tokenizer.\n"
     ]
    },
    {
     "name": "stdout",
     "output_type": "stream",
     "text": [
      "you said: hello\n",
      "crayons --> Hello! :D\n",
      "Listening\n"
     ]
    },
    {
     "name": "stderr",
     "output_type": "stream",
     "text": [
      "A decoder-only architecture is being used, but right-padding was detected! For correct generation results, please set `padding_side='left'` when initializing the tokenizer.\n"
     ]
    },
    {
     "name": "stdout",
     "output_type": "stream",
     "text": [
      "you said: what is your name\n",
      "crayons --> I'm not sure, but I think it's a reference to the movie The Big Lebowski.\n",
      "Listening\n",
      "you said: ok bye\n",
      "crayons --> Lets talk again later!\n",
      "---- \tClosing down crayons ----\n"
     ]
    }
   ],
   "source": [
    "cl = Chatbot(name=\"crayons\")\n",
    "cl.start()"
   ]
  },
  {
   "cell_type": "code",
   "execution_count": 37,
   "id": "321a5696-b696-430e-a429-85d72a0c5e69",
   "metadata": {},
   "outputs": [
    {
     "name": "stderr",
     "output_type": "stream",
     "text": [
      "A decoder-only architecture is being used, but right-padding was detected! For correct generation results, please set `padding_side='left'` when initializing the tokenizer.\n"
     ]
    },
    {
     "data": {
      "text/plain": [
       "Conversation id: 8250860b-54d0-42cd-9a50-643ebee8a27a \n",
       "user >> tell me 2+1 \n",
       "bot >> I'm not sure what that means, but I'm sure it's a reference to something. "
      ]
     },
     "execution_count": 37,
     "metadata": {},
     "output_type": "execute_result"
    }
   ],
   "source": [
    "npl(transformers.Conversation(\"tell me 2+1\"),pad_token_id=50256)"
   ]
  },
  {
   "cell_type": "code",
   "execution_count": 56,
   "id": "d21c29b1-a1c2-4795-8b39-d94d05950036",
   "metadata": {},
   "outputs": [
    {
     "name": "stdout",
     "output_type": "stream",
     "text": [
      "Listening\n",
      "you said: hello\n"
     ]
    }
   ],
   "source": []
  },
  {
   "cell_type": "code",
   "execution_count": 12,
   "id": "ec1e5fb8-18eb-4b3b-a616-a880c738ad3c",
   "metadata": {},
   "outputs": [
    {
     "data": {
      "text/plain": [
       "'f'"
      ]
     },
     "execution_count": 12,
     "metadata": {},
     "output_type": "execute_result"
    }
   ],
   "source": [
    "k = \"he\".join(\"f\")\n",
    "k"
   ]
  }
 ],
 "metadata": {
  "kernelspec": {
   "display_name": "Python 3 (ipykernel)",
   "language": "python",
   "name": "python3"
  },
  "language_info": {
   "codemirror_mode": {
    "name": "ipython",
    "version": 3
   },
   "file_extension": ".py",
   "mimetype": "text/x-python",
   "name": "python",
   "nbconvert_exporter": "python",
   "pygments_lexer": "ipython3",
   "version": "3.11.5"
  }
 },
 "nbformat": 4,
 "nbformat_minor": 5
}

{
 "cells": [
  {
   "cell_type": "markdown",
   "id": "c47b1f65",
   "metadata": {},
   "source": [
    "# Import"
   ]
  },
  {
   "cell_type": "code",
   "execution_count": 3,
   "id": "02a43d1d",
   "metadata": {},
   "outputs": [
    {
     "name": "stdout",
     "output_type": "stream",
     "text": [
      "WARNING:tensorflow:From C:\\Users\\mahat\\anaconda3\\Lib\\site-packages\\keras\\src\\losses.py:2976: The name tf.losses.sparse_softmax_cross_entropy is deprecated. Please use tf.compat.v1.losses.sparse_softmax_cross_entropy instead.\n",
      "\n"
     ]
    }
   ],
   "source": [
    "import tensorflow as tf\n",
    "from tensorflow import keras\n",
    "import numpy as np\n",
    "import matplotlib.pyplot as plt"
   ]
  },
  {
   "cell_type": "markdown",
   "id": "bfe5fcf7",
   "metadata": {},
   "source": [
    "# Code"
   ]
  },
  {
   "cell_type": "code",
   "execution_count": 6,
   "id": "c3e2e2a1",
   "metadata": {},
   "outputs": [],
   "source": [
    "fashion = keras.datasets.fashion_mnist"
   ]
  },
  {
   "cell_type": "code",
   "execution_count": 7,
   "id": "d7e55200",
   "metadata": {},
   "outputs": [
    {
     "name": "stdout",
     "output_type": "stream",
     "text": [
      "Downloading data from https://storage.googleapis.com/tensorflow/tf-keras-datasets/train-labels-idx1-ubyte.gz\n",
      "29515/29515 [==============================] - 0s 0us/step\n",
      "Downloading data from https://storage.googleapis.com/tensorflow/tf-keras-datasets/train-images-idx3-ubyte.gz\n",
      "26421880/26421880 [==============================] - 6s 0us/step\n",
      "Downloading data from https://storage.googleapis.com/tensorflow/tf-keras-datasets/t10k-labels-idx1-ubyte.gz\n",
      "5148/5148 [==============================] - 0s 0s/step\n",
      "Downloading data from https://storage.googleapis.com/tensorflow/tf-keras-datasets/t10k-images-idx3-ubyte.gz\n",
      "4422102/4422102 [==============================] - 1s 0us/step\n"
     ]
    }
   ],
   "source": [
    "(xtrain, ytrain), (xtest, ytest) = fashion.load_data()"
   ]
  },
  {
   "cell_type": "code",
   "execution_count": 8,
   "id": "8e012bf5",
   "metadata": {},
   "outputs": [],
   "source": [
    "imgIndex = 9\n",
    "image = xtrain[imgIndex]"
   ]
  },
  {
   "cell_type": "code",
   "execution_count": 9,
   "id": "fd05bdd4",
   "metadata": {},
   "outputs": [
    {
     "name": "stdout",
     "output_type": "stream",
     "text": [
      "Image Label : 5\n"
     ]
    }
   ],
   "source": [
    "print(\"Image Label :\",ytrain[imgIndex])"
   ]
  },
  {
   "cell_type": "code",
   "execution_count": 10,
   "id": "855b8c50",
   "metadata": {},
   "outputs": [
    {
     "data": {
      "text/plain": [
       "<matplotlib.image.AxesImage at 0x1cf7fc832d0>"
      ]
     },
     "execution_count": 10,
     "metadata": {},
     "output_type": "execute_result"
    },
    {
     "data": {
      "image/png": "[encoded data removed]",
      "text/plain": [
       "<Figure size 640x480 with 1 Axes>"
      ]
     },
     "metadata": {},
     "output_type": "display_data"
    }
   ],
   "source": [
    "plt.imshow(image)"
   ]
  },
  {
   "cell_type": "code",
   "execution_count": 12,
   "id": "68dd2924",
   "metadata": {},
   "outputs": [
    {
     "name": "stdout",
     "output_type": "stream",
     "text": [
      "(60000, 28, 28)\n",
      "(10000, 28, 28)\n"
     ]
    }
   ],
   "source": [
    "print(xtrain.shape)\n",
    "print(xtest.shape)"
   ]
  },
  {
   "cell_type": "code",
   "execution_count": 13,
   "id": "2094034b",
   "metadata": {},
   "outputs": [
    {
     "name": "stdout",
     "output_type": "stream",
     "text": [
      "WARNING:tensorflow:From C:\\Users\\mahat\\anaconda3\\Lib\\site-packages\\keras\\src\\backend.py:873: The name tf.get_default_graph is deprecated. Please use tf.compat.v1.get_default_graph instead.\n",
      "\n",
      "Model: \"sequential\"\n",
      "_________________________________________________________________\n",
      " Layer (type)                Output Shape              Param #   \n",
      "=================================================================\n",
      " flatten (Flatten)           (None, 784)               0         \n",
      "                                                                 \n",
      " dense (Dense)               (None, 300)               235500    \n",
      "                                                                 \n",
      " dense_1 (Dense)             (None, 100)               30100     \n",
      "                                                                 \n",
      " dense_2 (Dense)             (None, 10)                1010      \n",
      "                                                                 \n",
      "=================================================================\n",
      "Total params: 266610 (1.02 MB)\n",
      "Trainable params: 266610 (1.02 MB)\n",
      "Non-trainable params: 0 (0.00 Byte)\n",
      "_________________________________________________________________\n",
      "None\n"
     ]
    }
   ],
   "source": [
    "model = keras.models.Sequential([\n",
    "    keras.layers.Flatten(input_shape=[28,28]),\n",
    "    keras.layers.Dense(300,activation=\"relu\"),\n",
    "    keras.layers.Dense(100,activation=\"relu\"),\n",
    "    keras.layers.Dense(10,activation=\"softmax\")\n",
    "])\n",
    "\n",
    "print(model.summary())"
   ]
  },
  {
   "cell_type": "code",
   "execution_count": 14,
   "id": "56015114",
   "metadata": {},
   "outputs": [],
   "source": [
    "xvalid, xtrain = xtrain[:5000]/255.0, xtrain[5000:]/255.0\n",
    "yvalid, ytrain = ytrain[:5000], ytrain[5000:]"
   ]
  },
  {
   "cell_type": "code",
   "execution_count": 15,
   "id": "643573ba",
   "metadata": {},
   "outputs": [
    {
     "name": "stdout",
     "output_type": "stream",
     "text": [
      "WARNING:tensorflow:From C:\\Users\\mahat\\anaconda3\\Lib\\site-packages\\keras\\src\\optimizers\\__init__.py:309: The name tf.train.Optimizer is deprecated. Please use tf.compat.v1.train.Optimizer instead.\n",
      "\n",
      "Epoch 1/40\n",
      "WARNING:tensorflow:From C:\\Users\\mahat\\anaconda3\\Lib\\site-packages\\keras\\src\\utils\\tf_utils.py:492: The name tf.ragged.RaggedTensorValue is deprecated. Please use tf.compat.v1.ragged.RaggedTensorValue instead.\n",
      "\n",
      "WARNING:tensorflow:From C:\\Users\\mahat\\anaconda3\\Lib\\site-packages\\keras\\src\\engine\\base_layer_utils.py:384: The name tf.executing_eagerly_outside_functions is deprecated. Please use tf.compat.v1.executing_eagerly_outside_functions instead.\n",
      "\n",
      "1719/1719 [==============================] - 3s 2ms/step - loss: 0.7411 - accuracy: 0.7566 - val_loss: 0.5445 - val_accuracy: 0.8136\n",
      "Epoch 2/40\n",
      "1719/1719 [==============================] - 3s 2ms/step - loss: 0.4927 - accuracy: 0.8286 - val_loss: 0.4398 - val_accuracy: 0.8522\n",
      "Epoch 3/40\n",
      "1719/1719 [==============================] - 3s 2ms/step - loss: 0.4453 - accuracy: 0.8437 - val_loss: 0.4303 - val_accuracy: 0.8472\n",
      "Epoch 4/40\n",
      "1719/1719 [==============================] - 3s 2ms/step - loss: 0.4180 - accuracy: 0.8525 - val_loss: 0.3957 - val_accuracy: 0.8638\n",
      "Epoch 5/40\n",
      "1719/1719 [==============================] - 3s 2ms/step - loss: 0.3991 - accuracy: 0.8599 - val_loss: 0.3814 - val_accuracy: 0.8696\n",
      "Epoch 6/40\n",
      "1719/1719 [==============================] - 3s 2ms/step - loss: 0.3805 - accuracy: 0.8661 - val_loss: 0.3920 - val_accuracy: 0.8642\n",
      "Epoch 7/40\n",
      "1719/1719 [==============================] - 3s 2ms/step - loss: 0.3673 - accuracy: 0.8708 - val_loss: 0.3957 - val_accuracy: 0.8644\n",
      "Epoch 8/40\n",
      "1719/1719 [==============================] - 3s 2ms/step - loss: 0.3555 - accuracy: 0.8751 - val_loss: 0.3662 - val_accuracy: 0.8712\n",
      "Epoch 9/40\n",
      "1719/1719 [==============================] - 3s 2ms/step - loss: 0.3454 - accuracy: 0.8767 - val_loss: 0.3441 - val_accuracy: 0.8766\n",
      "Epoch 10/40\n",
      "1719/1719 [==============================] - 3s 2ms/step - loss: 0.3356 - accuracy: 0.8799 - val_loss: 0.3412 - val_accuracy: 0.8756\n",
      "Epoch 11/40\n",
      "1719/1719 [==============================] - 3s 2ms/step - loss: 0.3277 - accuracy: 0.8839 - val_loss: 0.3563 - val_accuracy: 0.8728\n",
      "Epoch 12/40\n",
      "1719/1719 [==============================] - 3s 2ms/step - loss: 0.3196 - accuracy: 0.8856 - val_loss: 0.3448 - val_accuracy: 0.8754\n",
      "Epoch 13/40\n",
      "1719/1719 [==============================] - 3s 2ms/step - loss: 0.3117 - accuracy: 0.8879 - val_loss: 0.3219 - val_accuracy: 0.8844\n",
      "Epoch 14/40\n",
      "1719/1719 [==============================] - 3s 2ms/step - loss: 0.3057 - accuracy: 0.8897 - val_loss: 0.3215 - val_accuracy: 0.8828\n",
      "Epoch 15/40\n",
      "1719/1719 [==============================] - 3s 2ms/step - loss: 0.2993 - accuracy: 0.8919 - val_loss: 0.3328 - val_accuracy: 0.8810\n",
      "Epoch 16/40\n",
      "1719/1719 [==============================] - 3s 2ms/step - loss: 0.2923 - accuracy: 0.8953 - val_loss: 0.3205 - val_accuracy: 0.8872\n",
      "Epoch 17/40\n",
      "1719/1719 [==============================] - 3s 2ms/step - loss: 0.2875 - accuracy: 0.8957 - val_loss: 0.3204 - val_accuracy: 0.8870\n",
      "Epoch 18/40\n",
      "1719/1719 [==============================] - 3s 2ms/step - loss: 0.2822 - accuracy: 0.8986 - val_loss: 0.3322 - val_accuracy: 0.8806\n",
      "Epoch 19/40\n",
      "1719/1719 [==============================] - 3s 2ms/step - loss: 0.2754 - accuracy: 0.9000 - val_loss: 0.3156 - val_accuracy: 0.8862\n",
      "Epoch 20/40\n",
      "1719/1719 [==============================] - 4s 2ms/step - loss: 0.2715 - accuracy: 0.9026 - val_loss: 0.3049 - val_accuracy: 0.8882\n",
      "Epoch 21/40\n",
      "1719/1719 [==============================] - 3s 2ms/step - loss: 0.2663 - accuracy: 0.9037 - val_loss: 0.3089 - val_accuracy: 0.8900\n",
      "Epoch 22/40\n",
      "1719/1719 [==============================] - 3s 2ms/step - loss: 0.2613 - accuracy: 0.9067 - val_loss: 0.3171 - val_accuracy: 0.8876\n",
      "Epoch 23/40\n",
      "1719/1719 [==============================] - 3s 2ms/step - loss: 0.2567 - accuracy: 0.9078 - val_loss: 0.3044 - val_accuracy: 0.8918\n",
      "Epoch 24/40\n",
      "1719/1719 [==============================] - 3s 2ms/step - loss: 0.2525 - accuracy: 0.9091 - val_loss: 0.3060 - val_accuracy: 0.8922\n",
      "Epoch 25/40\n",
      "1719/1719 [==============================] - 3s 2ms/step - loss: 0.2481 - accuracy: 0.9115 - val_loss: 0.3119 - val_accuracy: 0.8868\n",
      "Epoch 26/40\n",
      "1719/1719 [==============================] - 3s 2ms/step - loss: 0.2437 - accuracy: 0.9127 - val_loss: 0.2967 - val_accuracy: 0.8948\n",
      "Epoch 27/40\n",
      "1719/1719 [==============================] - 3s 2ms/step - loss: 0.2404 - accuracy: 0.9139 - val_loss: 0.3067 - val_accuracy: 0.8942\n",
      "Epoch 28/40\n",
      "1719/1719 [==============================] - 3s 2ms/step - loss: 0.2359 - accuracy: 0.9154 - val_loss: 0.3032 - val_accuracy: 0.8924\n",
      "Epoch 29/40\n",
      "1719/1719 [==============================] - 3s 2ms/step - loss: 0.2333 - accuracy: 0.9150 - val_loss: 0.3022 - val_accuracy: 0.8920\n",
      "Epoch 30/40\n",
      "1719/1719 [==============================] - 3s 2ms/step - loss: 0.2288 - accuracy: 0.9180 - val_loss: 0.2960 - val_accuracy: 0.8914\n",
      "Epoch 31/40\n",
      "1719/1719 [==============================] - 3s 2ms/step - loss: 0.2245 - accuracy: 0.9184 - val_loss: 0.3235 - val_accuracy: 0.8860\n",
      "Epoch 32/40\n",
      "1719/1719 [==============================] - 3s 2ms/step - loss: 0.2214 - accuracy: 0.9206 - val_loss: 0.2871 - val_accuracy: 0.8954\n",
      "Epoch 33/40\n",
      "1719/1719 [==============================] - 3s 2ms/step - loss: 0.2175 - accuracy: 0.9224 - val_loss: 0.3056 - val_accuracy: 0.8930\n",
      "Epoch 34/40\n",
      "1719/1719 [==============================] - 3s 2ms/step - loss: 0.2144 - accuracy: 0.9234 - val_loss: 0.3173 - val_accuracy: 0.8888\n",
      "Epoch 35/40\n",
      "1719/1719 [==============================] - 3s 2ms/step - loss: 0.2108 - accuracy: 0.9230 - val_loss: 0.2904 - val_accuracy: 0.8952\n",
      "Epoch 36/40\n",
      "1719/1719 [==============================] - 3s 2ms/step - loss: 0.2079 - accuracy: 0.9255 - val_loss: 0.2951 - val_accuracy: 0.8960\n",
      "Epoch 37/40\n",
      "1719/1719 [==============================] - 3s 2ms/step - loss: 0.2040 - accuracy: 0.9280 - val_loss: 0.2903 - val_accuracy: 0.8970\n",
      "Epoch 38/40\n",
      "1719/1719 [==============================] - 3s 2ms/step - loss: 0.2018 - accuracy: 0.9276 - val_loss: 0.2882 - val_accuracy: 0.9024\n",
      "Epoch 39/40\n",
      "1719/1719 [==============================] - 3s 2ms/step - loss: 0.1973 - accuracy: 0.9303 - val_loss: 0.3005 - val_accuracy: 0.8936\n",
      "Epoch 40/40\n",
      "1719/1719 [==============================] - 3s 2ms/step - loss: 0.1948 - accuracy: 0.9307 - val_loss: 0.3202 - val_accuracy: 0.8922\n"
     ]
    }
   ],
   "source": [
    "model.compile(\n",
    "    loss=\"sparse_categorical_crossentropy\",\n",
    "    optimizer=\"sgd\",\n",
    "    metrics=[\"accuracy\"])\n",
    "\n",
    "history = model.fit(xtrain, ytrain, epochs= 40, validation_data=(xvalid,yvalid))"
   ]
  },
  {
   "cell_type": "code",
   "execution_count": 25,
   "id": "e5bb6f1e",
   "metadata": {},
   "outputs": [
    {
     "name": "stdout",
     "output_type": "stream",
     "text": [
      "1/1 [==============================] - 0s 17ms/step\n",
      "[[0. 0. 0. 0. 0. 0. 0. 0. 0. 1.]\n",
      " [0. 0. 1. 0. 0. 0. 0. 0. 0. 0.]\n",
      " [0. 1. 0. 0. 0. 0. 0. 0. 0. 0.]\n",
      " [0. 1. 0. 0. 0. 0. 0. 0. 0. 0.]\n",
      " [1. 0. 0. 0. 0. 0. 0. 0. 0. 0.]]\n"
     ]
    }
   ],
   "source": [
    "new = xtest[:5]\n",
    "predictions = model.predict(new)\n",
    "print(predictions)"
   ]
  },
  {
   "cell_type": "code",
   "execution_count": 29,
   "id": "4c4b4b3e",
   "metadata": {},
   "outputs": [
    {
     "data": {
      "text/plain": [
       "<matplotlib.image.AxesImage at 0x1cf23255150>"
      ]
     },
     "execution_count": 29,
     "metadata": {},
     "output_type": "execute_result"
    },
    {
     "data": {
      "image/png": "[encoded data removed]",
      "text/plain": [
       "<Figure size 640x480 with 1 Axes>"
      ]
     },
     "metadata": {},
     "output_type": "display_data"
    }
   ],
   "source": [
    "plt.imshow(xtrain[1])"
   ]
  },
  {
   "cell_type": "code",
   "execution_count": 26,
   "id": "4af596ee",
   "metadata": {},
   "outputs": [
    {
     "name": "stdout",
     "output_type": "stream",
     "text": [
      "[9 2 1 1 0]\n"
     ]
    }
   ],
   "source": [
    "classes = np.argmax(predictions, axis = 1)\n",
    "print(classes)"
   ]
  },
  {
   "cell_type": "code",
   "execution_count": null,
   "id": "3bdad096",
   "metadata": {},
   "outputs": [],
   "source": []
  }
 ],
 "metadata": {
  "kernelspec": {
   "display_name": "Python 3 (ipykernel)",
   "language": "python",
   "name": "python3"
  },
  "language_info": {
   "codemirror_mode": {
    "name": "ipython",
    "version": 3
   },
   "file_extension": ".py",
   "mimetype": "text/x-python",
   "name": "python",
   "nbconvert_exporter": "python",
   "pygments_lexer": "ipython3",
   "version": "3.11.5"
  }
 },
 "nbformat": 4,
 "nbformat_minor": 5
}

{
 "cells": [
  {
   "cell_type": "code",
   "execution_count": 1,
   "id": "954e83c3",
   "metadata": {},
   "outputs": [
    {
     "name": "stdout",
     "output_type": "stream",
     "text": [
      "WARNING:tensorflow:From c:\\Users\\mahat\\anaconda3\\Lib\\site-packages\\keras\\src\\losses.py:2976: The name tf.losses.sparse_softmax_cross_entropy is deprecated. Please use tf.compat.v1.losses.sparse_softmax_cross_entropy instead.\n",
      "\n"
     ]
    }
   ],
   "source": [
    "import numpy as np\n",
    "import tensorflow as tf\n",
    "from tensorflow.keras.preprocessing.text import Tokenizer\n",
    "from tensorflow.keras.preprocessing.sequence import pad_sequences\n",
    "from tensorflow.keras.models import Sequential\n",
    "from tensorflow.keras.layers import Embedding, LSTM, Dense\n",
    "\n"
   ]
  },
  {
   "cell_type": "markdown",
   "id": "fe73366f",
   "metadata": {},
   "source": [
    "# Opening and Reading the csv File"
   ]
  },
  {
   "cell_type": "code",
   "execution_count": 1,
   "id": "ff330f18-b1da-402d-aed8-889bbd15e7be",
   "metadata": {},
   "outputs": [],
   "source": [
    "current = r\"****\\OneDrive\\Documents\\Data Sets\\Excel Files\\sherlock-holm.es_stories_plain-text_advs.txt\""
   ]
  },
  {
   "cell_type": "code",
   "execution_count": 2,
   "id": "6a91b5ce",
   "metadata": {},
   "outputs": [],
   "source": [
    "with open(current,'r',encoding='utf-8') as file:\n",
    "    text = file.read()"
   ]
  },
  {
   "cell_type": "markdown",
   "id": "e00a43b1",
   "metadata": {},
   "source": [
    "# Tokenizing the Strings in the dataset"
   ]
  },
  {
   "cell_type": "code",
   "execution_count": 3,
   "id": "8e2b5cea",
   "metadata": {},
   "outputs": [],
   "source": [
    "tokenizer = Tokenizer()\n",
    "tokenizer.fit_on_texts([text])\n",
    "total_words = len(tokenizer.word_index) + 1\n"
   ]
  },
  {
   "cell_type": "markdown",
   "id": "0dfbfd00",
   "metadata": {},
   "source": [
    "# Creating Sequences "
   ]
  },
  {
   "cell_type": "code",
   "execution_count": 4,
   "id": "ef8c1570",
   "metadata": {},
   "outputs": [],
   "source": [
    "input_sequences = []\n",
    "for line in text.split('\\n'):\n",
    "    token_list = tokenizer.texts_to_sequences([line])[0]\n",
    "    for i in range(1,len(token_list)):\n",
    "        n_gram_sequence = token_list[:i+1]\n",
    "        input_sequences.append(n_gram_sequence)\n"
   ]
  },
  {
   "cell_type": "code",
   "execution_count": 5,
   "id": "4347578c",
   "metadata": {},
   "outputs": [],
   "source": [
    "max_sequences_len = max([len(seq) for seq in input_sequences])\n",
    "input_sequences = np.array(pad_sequences(input_sequences, maxlen = max_sequences_len, padding = 'pre'))"
   ]
  },
  {
   "cell_type": "code",
   "execution_count": 6,
   "id": "9cdc3eb0",
   "metadata": {},
   "outputs": [],
   "source": [
    "X = input_sequences[:,:-1]\n",
    "y = input_sequences[:, -1]"
   ]
  },
  {
   "cell_type": "code",
   "execution_count": 8,
   "id": "f408229a",
   "metadata": {},
   "outputs": [],
   "source": [
    "y = np.array(tf.keras.utils.to_categorical(y,num_classes = total_words))\n"
   ]
  },
  {
   "cell_type": "code",
   "execution_count": 9,
   "id": "500736eb",
   "metadata": {},
   "outputs": [
    {
     "name": "stdout",
     "output_type": "stream",
     "text": [
      "WARNING:tensorflow:From c:\\Users\\mahat\\anaconda3\\Lib\\site-packages\\keras\\src\\backend.py:873: The name tf.get_default_graph is deprecated. Please use tf.compat.v1.get_default_graph instead.\n",
      "\n",
      "Model: \"sequential\"\n",
      "_________________________________________________________________\n",
      " Layer (type)                Output Shape              Param #   \n",
      "=================================================================\n",
      " embedding (Embedding)       (None, 17, 100)           820000    \n",
      "                                                                 \n",
      " lstm (LSTM)                 (None, 150)               150600    \n",
      "                                                                 \n",
      " dense (Dense)               (None, 8200)              1238200   \n",
      "                                                                 \n",
      "=================================================================\n",
      "Total params: 2208800 (8.43 MB)\n",
      "Trainable params: 2208800 (8.43 MB)\n",
      "Non-trainable params: 0 (0.00 Byte)\n",
      "_________________________________________________________________\n",
      "None\n"
     ]
    }
   ],
   "source": [
    "model = Sequential()\n",
    "model.add(Embedding(total_words, 100, input_length= max_sequences_len -1))\n",
    "model.add(LSTM(150))\n",
    "model.add(Dense(total_words, activation= 'softmax'))\n",
    "print(model.summary())"
   ]
  },
  {
   "cell_type": "code",
   "execution_count": 11,
   "id": "3f629303",
   "metadata": {},
   "outputs": [
    {
     "name": "stdout",
     "output_type": "stream",
     "text": [
      "Epoch 1/100\n",
      "WARNING:tensorflow:From c:\\Users\\mahat\\anaconda3\\Lib\\site-packages\\keras\\src\\utils\\tf_utils.py:492: The name tf.ragged.RaggedTensorValue is deprecated. Please use tf.compat.v1.ragged.RaggedTensorValue instead.\n",
      "\n",
      "WARNING:tensorflow:From c:\\Users\\mahat\\anaconda3\\Lib\\site-packages\\keras\\src\\engine\\base_layer_utils.py:384: The name tf.executing_eagerly_outside_functions is deprecated. Please use tf.compat.v1.executing_eagerly_outside_functions instead.\n",
      "\n",
      "3010/3010 [==============================] - 65s 21ms/step - loss: 6.2369 - accuracy: 0.0767\n",
      "Epoch 2/100\n",
      "3010/3010 [==============================] - 62s 21ms/step - loss: 5.5142 - accuracy: 0.1232\n",
      "Epoch 3/100\n",
      "3010/3010 [==============================] - 63s 21ms/step - loss: 5.1230 - accuracy: 0.1476\n",
      "Epoch 4/100\n",
      "3010/3010 [==============================] - 62s 21ms/step - loss: 4.7953 - accuracy: 0.1668\n",
      "Epoch 5/100\n",
      "3010/3010 [==============================] - 68s 23ms/step - loss: 4.4967 - accuracy: 0.1837\n",
      "Epoch 6/100\n",
      "3010/3010 [==============================] - 72s 24ms/step - loss: 4.2136 - accuracy: 0.2010\n",
      "Epoch 7/100\n",
      "3010/3010 [==============================] - 67s 22ms/step - loss: 3.9455 - accuracy: 0.2265\n",
      "Epoch 8/100\n",
      "3010/3010 [==============================] - 67s 22ms/step - loss: 3.6873 - accuracy: 0.2561\n",
      "Epoch 9/100\n",
      "3010/3010 [==============================] - 67s 22ms/step - loss: 3.4439 - accuracy: 0.2883\n",
      "Epoch 10/100\n",
      "3010/3010 [==============================] - 66s 22ms/step - loss: 3.2165 - accuracy: 0.3235\n",
      "Epoch 11/100\n",
      "3010/3010 [==============================] - 66s 22ms/step - loss: 3.0036 - accuracy: 0.3573\n",
      "Epoch 12/100\n",
      "3010/3010 [==============================] - 67s 22ms/step - loss: 2.8072 - accuracy: 0.3932\n",
      "Epoch 13/100\n",
      "3010/3010 [==============================] - 71s 23ms/step - loss: 2.6257 - accuracy: 0.4266\n",
      "Epoch 14/100\n",
      "3010/3010 [==============================] - 70s 23ms/step - loss: 2.4630 - accuracy: 0.4600\n",
      "Epoch 15/100\n",
      "3010/3010 [==============================] - 69s 23ms/step - loss: 2.3092 - accuracy: 0.4892\n",
      "Epoch 16/100\n",
      "3010/3010 [==============================] - 69s 23ms/step - loss: 2.1688 - accuracy: 0.5169\n",
      "Epoch 17/100\n",
      "3010/3010 [==============================] - 68s 23ms/step - loss: 2.0399 - accuracy: 0.5448\n",
      "Epoch 18/100\n",
      "3010/3010 [==============================] - 65s 22ms/step - loss: 1.9231 - accuracy: 0.5697\n",
      "Epoch 19/100\n",
      "3010/3010 [==============================] - 64s 21ms/step - loss: 1.8143 - accuracy: 0.5925\n",
      "Epoch 20/100\n",
      "3010/3010 [==============================] - 67s 22ms/step - loss: 1.7167 - accuracy: 0.6141\n",
      "Epoch 21/100\n",
      "3010/3010 [==============================] - 70s 23ms/step - loss: 1.6237 - accuracy: 0.6343\n",
      "Epoch 22/100\n",
      "3010/3010 [==============================] - 67s 22ms/step - loss: 1.5412 - accuracy: 0.6530\n",
      "Epoch 23/100\n",
      "3010/3010 [==============================] - 59s 20ms/step - loss: 1.4644 - accuracy: 0.6687\n",
      "Epoch 24/100\n",
      "3010/3010 [==============================] - 62s 21ms/step - loss: 1.3942 - accuracy: 0.6838\n",
      "Epoch 25/100\n",
      "3010/3010 [==============================] - 61s 20ms/step - loss: 1.3303 - accuracy: 0.6983\n",
      "Epoch 26/100\n",
      "3010/3010 [==============================] - 64s 21ms/step - loss: 1.2674 - accuracy: 0.7125\n",
      "Epoch 27/100\n",
      "3010/3010 [==============================] - 68s 23ms/step - loss: 1.2160 - accuracy: 0.7231\n",
      "Epoch 28/100\n",
      "3010/3010 [==============================] - 70s 23ms/step - loss: 1.1647 - accuracy: 0.7336\n",
      "Epoch 29/100\n",
      "3010/3010 [==============================] - 68s 22ms/step - loss: 1.1186 - accuracy: 0.7442\n",
      "Epoch 30/100\n",
      "3010/3010 [==============================] - 71s 23ms/step - loss: 1.0739 - accuracy: 0.7551\n",
      "Epoch 31/100\n",
      "3010/3010 [==============================] - 66s 22ms/step - loss: 1.0364 - accuracy: 0.7628\n",
      "Epoch 32/100\n",
      "3010/3010 [==============================] - 64s 21ms/step - loss: 0.9980 - accuracy: 0.7708\n",
      "Epoch 33/100\n",
      "3010/3010 [==============================] - 65s 22ms/step - loss: 0.9637 - accuracy: 0.7783\n",
      "Epoch 34/100\n",
      "3010/3010 [==============================] - 65s 22ms/step - loss: 0.9338 - accuracy: 0.7854\n",
      "Epoch 35/100\n",
      "3010/3010 [==============================] - 66s 22ms/step - loss: 0.9044 - accuracy: 0.7902\n",
      "Epoch 36/100\n",
      "3010/3010 [==============================] - 66s 22ms/step - loss: 0.8754 - accuracy: 0.7969\n",
      "Epoch 37/100\n",
      "3010/3010 [==============================] - 65s 22ms/step - loss: 0.8511 - accuracy: 0.8034\n",
      "Epoch 38/100\n",
      "3010/3010 [==============================] - 65s 22ms/step - loss: 0.8300 - accuracy: 0.8075\n",
      "Epoch 39/100\n",
      "3010/3010 [==============================] - 66s 22ms/step - loss: 0.8092 - accuracy: 0.8119\n",
      "Epoch 40/100\n",
      "3010/3010 [==============================] - 66s 22ms/step - loss: 0.7920 - accuracy: 0.8144\n",
      "Epoch 41/100\n",
      "3010/3010 [==============================] - 66s 22ms/step - loss: 0.7695 - accuracy: 0.8201\n",
      "Epoch 42/100\n",
      "3010/3010 [==============================] - 64s 21ms/step - loss: 0.7543 - accuracy: 0.8227\n",
      "Epoch 43/100\n",
      "3010/3010 [==============================] - 62s 21ms/step - loss: 0.7374 - accuracy: 0.8263\n",
      "Epoch 44/100\n",
      "3010/3010 [==============================] - 62s 21ms/step - loss: 0.7252 - accuracy: 0.8288\n",
      "Epoch 45/100\n",
      "3010/3010 [==============================] - 62s 20ms/step - loss: 0.7086 - accuracy: 0.8332\n",
      "Epoch 46/100\n",
      "3010/3010 [==============================] - 62s 21ms/step - loss: 0.6985 - accuracy: 0.8348\n",
      "Epoch 47/100\n",
      "3010/3010 [==============================] - 63s 21ms/step - loss: 0.6839 - accuracy: 0.8385\n",
      "Epoch 48/100\n",
      "3010/3010 [==============================] - 67s 22ms/step - loss: 0.6782 - accuracy: 0.8382\n",
      "Epoch 49/100\n",
      "3010/3010 [==============================] - 67s 22ms/step - loss: 0.6642 - accuracy: 0.8417\n",
      "Epoch 50/100\n",
      "3010/3010 [==============================] - 67s 22ms/step - loss: 0.6577 - accuracy: 0.8413\n",
      "Epoch 51/100\n",
      "3010/3010 [==============================] - 67s 22ms/step - loss: 0.6465 - accuracy: 0.8446\n",
      "Epoch 52/100\n",
      "3010/3010 [==============================] - 67s 22ms/step - loss: 0.6392 - accuracy: 0.8461\n",
      "Epoch 53/100\n",
      "3010/3010 [==============================] - 63s 21ms/step - loss: 0.6300 - accuracy: 0.8483\n",
      "Epoch 54/100\n",
      "3010/3010 [==============================] - 62s 21ms/step - loss: 0.6243 - accuracy: 0.8483\n",
      "Epoch 55/100\n",
      "3010/3010 [==============================] - 61s 20ms/step - loss: 0.6183 - accuracy: 0.8495\n",
      "Epoch 56/100\n",
      "3010/3010 [==============================] - 62s 20ms/step - loss: 0.6099 - accuracy: 0.8519\n",
      "Epoch 57/100\n",
      "3010/3010 [==============================] - 62s 20ms/step - loss: 0.6041 - accuracy: 0.8525\n",
      "Epoch 58/100\n",
      "3010/3010 [==============================] - 65s 22ms/step - loss: 0.5996 - accuracy: 0.8521\n",
      "Epoch 59/100\n",
      "3010/3010 [==============================] - 66s 22ms/step - loss: 0.5958 - accuracy: 0.8539\n",
      "Epoch 60/100\n",
      "3010/3010 [==============================] - 66s 22ms/step - loss: 0.5860 - accuracy: 0.8564\n",
      "Epoch 61/100\n",
      "3010/3010 [==============================] - 66s 22ms/step - loss: 0.5885 - accuracy: 0.8553\n",
      "Epoch 62/100\n",
      "3010/3010 [==============================] - 66s 22ms/step - loss: 0.5790 - accuracy: 0.8579\n",
      "Epoch 63/100\n",
      "3010/3010 [==============================] - 66s 22ms/step - loss: 0.5768 - accuracy: 0.8569\n",
      "Epoch 64/100\n",
      "3010/3010 [==============================] - 66s 22ms/step - loss: 0.5744 - accuracy: 0.8567\n",
      "Epoch 65/100\n",
      "3010/3010 [==============================] - 66s 22ms/step - loss: 0.5657 - accuracy: 0.8585\n",
      "Epoch 66/100\n",
      "3010/3010 [==============================] - 64s 21ms/step - loss: 0.5686 - accuracy: 0.8578\n",
      "Epoch 67/100\n",
      "3010/3010 [==============================] - 62s 21ms/step - loss: 0.5638 - accuracy: 0.8590\n",
      "Epoch 68/100\n",
      "3010/3010 [==============================] - 62s 21ms/step - loss: 0.5579 - accuracy: 0.8598\n",
      "Epoch 69/100\n",
      "3010/3010 [==============================] - 62s 20ms/step - loss: 0.5548 - accuracy: 0.8608\n",
      "Epoch 70/100\n",
      "3010/3010 [==============================] - 61s 20ms/step - loss: 0.5496 - accuracy: 0.8617\n",
      "Epoch 71/100\n",
      "3010/3010 [==============================] - 64s 21ms/step - loss: 0.5529 - accuracy: 0.8613\n",
      "Epoch 72/100\n",
      "3010/3010 [==============================] - 65s 22ms/step - loss: 0.5480 - accuracy: 0.8613\n",
      "Epoch 73/100\n",
      "3010/3010 [==============================] - 65s 22ms/step - loss: 0.5474 - accuracy: 0.8606\n",
      "Epoch 74/100\n",
      "3010/3010 [==============================] - 65s 22ms/step - loss: 0.5437 - accuracy: 0.8616\n",
      "Epoch 75/100\n",
      "3010/3010 [==============================] - 65s 22ms/step - loss: 0.5401 - accuracy: 0.8630\n",
      "Epoch 76/100\n",
      "3010/3010 [==============================] - 65s 22ms/step - loss: 0.5411 - accuracy: 0.8617\n",
      "Epoch 77/100\n",
      "3010/3010 [==============================] - 66s 22ms/step - loss: 0.5390 - accuracy: 0.8633\n",
      "Epoch 78/100\n",
      "3010/3010 [==============================] - 66s 22ms/step - loss: 0.5372 - accuracy: 0.8627\n",
      "Epoch 79/100\n",
      "3010/3010 [==============================] - 66s 22ms/step - loss: 0.5389 - accuracy: 0.8622\n",
      "Epoch 80/100\n",
      "3010/3010 [==============================] - 66s 22ms/step - loss: 0.5353 - accuracy: 0.8619\n",
      "Epoch 81/100\n",
      "3010/3010 [==============================] - 66s 22ms/step - loss: 0.5335 - accuracy: 0.8626\n",
      "Epoch 82/100\n",
      "3010/3010 [==============================] - 66s 22ms/step - loss: 0.5265 - accuracy: 0.8650\n",
      "Epoch 83/100\n",
      "3010/3010 [==============================] - 66s 22ms/step - loss: 0.5314 - accuracy: 0.8629\n",
      "Epoch 84/100\n",
      "3010/3010 [==============================] - 65s 22ms/step - loss: 0.5208 - accuracy: 0.8662\n",
      "Epoch 85/100\n",
      "3010/3010 [==============================] - 65s 22ms/step - loss: 0.5254 - accuracy: 0.8639\n",
      "Epoch 86/100\n",
      "3010/3010 [==============================] - 66s 22ms/step - loss: 0.5243 - accuracy: 0.8650\n",
      "Epoch 87/100\n",
      "3010/3010 [==============================] - 65s 22ms/step - loss: 0.5210 - accuracy: 0.8653\n",
      "Epoch 88/100\n",
      "3010/3010 [==============================] - 65s 22ms/step - loss: 0.5217 - accuracy: 0.8642\n",
      "Epoch 89/100\n",
      "3010/3010 [==============================] - 66s 22ms/step - loss: 0.5212 - accuracy: 0.8651\n",
      "Epoch 90/100\n",
      "3010/3010 [==============================] - 66s 22ms/step - loss: 0.5131 - accuracy: 0.8674\n",
      "Epoch 91/100\n",
      "3010/3010 [==============================] - 65s 22ms/step - loss: 0.5194 - accuracy: 0.8651\n",
      "Epoch 92/100\n",
      "3010/3010 [==============================] - 65s 22ms/step - loss: 0.5217 - accuracy: 0.8634\n",
      "Epoch 93/100\n",
      "3010/3010 [==============================] - 66s 22ms/step - loss: 0.5147 - accuracy: 0.8653\n",
      "Epoch 94/100\n",
      "3010/3010 [==============================] - 66s 22ms/step - loss: 0.5226 - accuracy: 0.8628\n",
      "Epoch 95/100\n",
      "3010/3010 [==============================] - 66s 22ms/step - loss: 0.5150 - accuracy: 0.8661\n",
      "Epoch 96/100\n",
      "3010/3010 [==============================] - 65s 22ms/step - loss: 0.5134 - accuracy: 0.8657\n",
      "Epoch 97/100\n",
      "3010/3010 [==============================] - 66s 22ms/step - loss: 0.5175 - accuracy: 0.8637\n",
      "Epoch 98/100\n",
      "3010/3010 [==============================] - 65s 22ms/step - loss: 0.5078 - accuracy: 0.8668\n",
      "Epoch 99/100\n",
      "3010/3010 [==============================] - 63s 21ms/step - loss: 0.5106 - accuracy: 0.8661\n",
      "Epoch 100/100\n",
      "3010/3010 [==============================] - 61s 20ms/step - loss: 0.5127 - accuracy: 0.8651\n"
     ]
    },
    {
     "data": {
      "text/plain": [
       "<keras.src.callbacks.History at 0x25142db6550>"
      ]
     },
     "execution_count": 11,
     "metadata": {},
     "output_type": "execute_result"
    }
   ],
   "source": [
    "model.compile(loss='categorical_crossentropy',optimizer='adam',metrics=['accuracy'])\n",
    "model.fit(X,y,epochs=100,verbose=1)"
   ]
  },
  {
   "cell_type": "code",
   "execution_count": 13,
   "id": "67154a89",
   "metadata": {},
   "outputs": [],
   "source": [
    "def Next_Word(seed_text,n):\n",
    "    for _ in range(n):\n",
    "        token_list = tokenizer.texts_to_sequences([seed_text])[0]\n",
    "        token_list = pad_sequences([token_list],maxlen=max_sequences_len-1,padding='pre')\n",
    "        predicted = np.argmax(model.predict(token_list),axis=-1)\n",
    "        output_word = \"\"\n",
    "        for word,index in tokenizer.word_index.items():\n",
    "            if index == predicted:\n",
    "                output_word = word\n",
    "                break\n",
    "        seed_text += \" \" + output_word\n",
    "\n",
    "    return seed_text"
   ]
  },
  {
   "cell_type": "code",
   "execution_count": 35,
   "id": "cb38da0f",
   "metadata": {},
   "outputs": [
    {
     "name": "stdout",
     "output_type": "stream",
     "text": [
      "1/1 [==============================] - 0s 48ms/step\n",
      "1/1 [==============================] - 0s 42ms/step\n",
      "1/1 [==============================] - 0s 41ms/step\n",
      "1/1 [==============================] - 0s 34ms/step\n",
      "1/1 [==============================] - 0s 49ms/step\n",
      "1/1 [==============================] - 0s 45ms/step\n",
      "1/1 [==============================] - 0s 41ms/step\n",
      "1/1 [==============================] - 0s 40ms/step\n",
      "1/1 [==============================] - 0s 42ms/step\n",
      "1/1 [==============================] - 0s 42ms/step\n",
      "1/1 [==============================] - 0s 39ms/step\n",
      "1/1 [==============================] - 0s 47ms/step\n",
      "1/1 [==============================] - 0s 39ms/step\n",
      "1/1 [==============================] - 0s 46ms/step\n",
      "1/1 [==============================] - 0s 32ms/step\n",
      "1/1 [==============================] - 0s 32ms/step\n",
      "1/1 [==============================] - 0s 47ms/step\n",
      "1/1 [==============================] - 0s 43ms/step\n",
      "1/1 [==============================] - 0s 43ms/step\n",
      "1/1 [==============================] - 0s 41ms/step\n",
      "1/1 [==============================] - 0s 38ms/step\n",
      "1/1 [==============================] - 0s 32ms/step\n",
      "1/1 [==============================] - 0s 39ms/step\n",
      "1/1 [==============================] - 0s 41ms/step\n",
      "1/1 [==============================] - 0s 31ms/step\n"
     ]
    },
    {
     "data": {
      "text/plain": [
       "'Hello hunter had described holmes cut the cord and removed the transverse was not remembered of a broad having stood at briony lodge in the morning'"
      ]
     },
     "execution_count": 35,
     "metadata": {},
     "output_type": "execute_result"
    }
   ],
   "source": [
    "Next_Word(\"Hello\", 25)"
   ]
  }
 ],
 "metadata": {
  "kernelspec": {
   "display_name": "Python 3 (ipykernel)",
   "language": "python",
   "name": "python3"
  },
  "language_info": {
   "codemirror_mode": {
    "name": "ipython",
    "version": 3
   },
   "file_extension": ".py",
   "mimetype": "text/x-python",
   "name": "python",
   "nbconvert_exporter": "python",
   "pygments_lexer": "ipython3",
   "version": "3.11.5"
  }
 },
 "nbformat": 4,
 "nbformat_minor": 5
}

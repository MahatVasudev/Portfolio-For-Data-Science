{
 "cells": [
  {
   "cell_type": "code",
   "execution_count": 2,
   "id": "b07cd482",
   "metadata": {
    "editable": true,
    "slideshow": {
     "slide_type": ""
    },
    "tags": []
   },
   "outputs": [],
   "source": [
    "import nltk\n",
    "import string\n",
    "from heapq import nlargest\n"
   ]
  },
  {
   "cell_type": "code",
   "execution_count": 3,
   "id": "11b510ab",
   "metadata": {
    "editable": true,
    "slideshow": {
     "slide_type": ""
    },
    "tags": [
     "remove-output"
    ]
   },
   "outputs": [
    {
     "name": "stderr",
     "output_type": "stream",
     "text": [
      "[nltk_data] Downloading package stopwords to\n",
      "[nltk_data]     C:\\Users\\mahat\\AppData\\Roaming\\nltk_data...\n",
      "[nltk_data]   Package stopwords is already up-to-date!\n"
     ]
    },
    {
     "data": {
      "text/plain": [
       "True"
      ]
     },
     "execution_count": 3,
     "metadata": {},
     "output_type": "execute_result"
    }
   ],
   "source": [
    "nltk.download(\"stopwords\")"
   ]
  },
  {
   "cell_type": "code",
   "execution_count": 4,
   "id": "32f14ead",
   "metadata": {},
   "outputs": [],
   "source": [
    "text = \"Moving averages can be calculated for any time frame, from minutes, hours to years.  Any time frame can be selected from the charting software-based of your requirements. \\\n",
    "For those of you familiar with excel, here is a screenshot of how moving averages are calculated on MS Excel. Notice how the cell reference moves in the average formula, eliminating the oldest to include the latest data points.\"\n"
   ]
  },
  {
   "cell_type": "code",
   "execution_count": 30,
   "id": "e6b3bf7a",
   "metadata": {},
   "outputs": [],
   "source": [
    "if text.count(\". \") > 20:\n",
    "    length = int(round(text.count(\". \")/10, 0))\n",
    "    \n",
    "else:\n",
    "    length = 1\n",
    "    \n",
    "nopuch = [char for char in text if char not in string.punctuation]\n",
    "\n",
    "nopuch = \"\".join(nopuch)\n",
    "\n",
    "processed_text = [word for word in nopuch.split() if word.lower() not in nltk.corpus.stopwords.words('english')]\n",
    "\n",
    "word_freq = {}\n",
    "\n",
    "for word in processed_text:\n",
    "    if word not in word_freq:\n",
    "        word_freq[word] = 1\n",
    "        \n",
    "    else:\n",
    "        word_freq[word] += 1\n",
    "        \n",
    "max_freq = max(word_freq.values())\n",
    "\n",
    "for word in word_freq.keys():\n",
    "    word_freq[word] = (word_freq[word]/max_freq)\n",
    "    \n",
    "sent_list = nltk.sent_tokenize(text)\n",
    "\n",
    "sent_score = {}\n",
    "\n",
    "for sent in sent_list:\n",
    "    for word in nltk.word_tokenize(sent.lower()):\n",
    "        if word in word_freq.keys():\n",
    "            if sent not in sent_score.keys():\n",
    "                sent_score[sent] = word_freq[word]\n",
    "            else:\n",
    "                sent_score[sent] += word_freq[word]\n",
    "                \n",
    "\n",
    "summary_sents = nlargest(length,sent_score,key = sent_score.get)\n",
    "\n",
    "summary = \" \".join(summary_sents)\n"
   ]
  },
  {
   "cell_type": "code",
   "execution_count": 31,
   "id": "5ede778d",
   "metadata": {},
   "outputs": [
    {
     "data": {
      "text/plain": [
       "{'A moving average filter is sometimes called a boxcar filter, especially when followed by decimation.Given a series of numbers and a fixed subset size, the first element of the moving average is obtained by taking the average of the initial fixed subset of the number series.': 12.5,\n",
       " \"Then the subset is modified by 'shifting forward'; that is, excluding the first number of the series and including the next value in the subset.\": 5.25}"
      ]
     },
     "execution_count": 31,
     "metadata": {},
     "output_type": "execute_result"
    }
   ],
   "source": [
    "sent_score"
   ]
  },
  {
   "cell_type": "code",
   "execution_count": 32,
   "id": "f163238b",
   "metadata": {},
   "outputs": [
    {
     "data": {
      "text/plain": [
       "{'moving': 0.5,\n",
       " 'average': 0.75,\n",
       " 'filter': 0.5,\n",
       " 'sometimes': 0.25,\n",
       " 'called': 0.25,\n",
       " 'boxcar': 0.25,\n",
       " 'especially': 0.25,\n",
       " 'followed': 0.25,\n",
       " 'decimationGiven': 0.25,\n",
       " 'series': 0.75,\n",
       " 'numbers': 0.25,\n",
       " 'fixed': 0.5,\n",
       " 'subset': 1.0,\n",
       " 'size': 0.25,\n",
       " 'first': 0.5,\n",
       " 'element': 0.25,\n",
       " 'obtained': 0.25,\n",
       " 'taking': 0.25,\n",
       " 'initial': 0.25,\n",
       " 'number': 0.5,\n",
       " 'modified': 0.25,\n",
       " 'shifting': 0.25,\n",
       " 'forward': 0.25,\n",
       " 'excluding': 0.25,\n",
       " 'including': 0.25,\n",
       " 'next': 0.25,\n",
       " 'value': 0.25}"
      ]
     },
     "execution_count": 32,
     "metadata": {},
     "output_type": "execute_result"
    }
   ],
   "source": [
    "word_freq"
   ]
  },
  {
   "cell_type": "code",
   "execution_count": 33,
   "id": "ac3557ce",
   "metadata": {},
   "outputs": [
    {
     "data": {
      "text/plain": [
       "['moving',\n",
       " 'average',\n",
       " 'filter',\n",
       " 'sometimes',\n",
       " 'called',\n",
       " 'boxcar',\n",
       " 'filter',\n",
       " 'especially',\n",
       " 'followed',\n",
       " 'decimationGiven',\n",
       " 'series',\n",
       " 'numbers',\n",
       " 'fixed',\n",
       " 'subset',\n",
       " 'size',\n",
       " 'first',\n",
       " 'element',\n",
       " 'moving',\n",
       " 'average',\n",
       " 'obtained',\n",
       " 'taking',\n",
       " 'average',\n",
       " 'initial',\n",
       " 'fixed',\n",
       " 'subset',\n",
       " 'number',\n",
       " 'series',\n",
       " 'subset',\n",
       " 'modified',\n",
       " 'shifting',\n",
       " 'forward',\n",
       " 'excluding',\n",
       " 'first',\n",
       " 'number',\n",
       " 'series',\n",
       " 'including',\n",
       " 'next',\n",
       " 'value',\n",
       " 'subset']"
      ]
     },
     "execution_count": 33,
     "metadata": {},
     "output_type": "execute_result"
    }
   ],
   "source": [
    "processed_text"
   ]
  },
  {
   "cell_type": "code",
   "execution_count": 34,
   "id": "b396228e",
   "metadata": {},
   "outputs": [
    {
     "data": {
      "text/plain": [
       "['A moving average filter is sometimes called a boxcar filter, especially when followed by decimation.Given a series of numbers and a fixed subset size, the first element of the moving average is obtained by taking the average of the initial fixed subset of the number series.',\n",
       " \"Then the subset is modified by 'shifting forward'; that is, excluding the first number of the series and including the next value in the subset.\"]"
      ]
     },
     "execution_count": 34,
     "metadata": {},
     "output_type": "execute_result"
    }
   ],
   "source": [
    "sent_list"
   ]
  },
  {
   "cell_type": "code",
   "execution_count": 35,
   "id": "7aa4271b",
   "metadata": {},
   "outputs": [
    {
     "data": {
      "text/plain": [
       "['i',\n",
       " 'me',\n",
       " 'my',\n",
       " 'myself',\n",
       " 'we',\n",
       " 'our',\n",
       " 'ours',\n",
       " 'ourselves',\n",
       " 'you',\n",
       " \"you're\",\n",
       " \"you've\",\n",
       " \"you'll\",\n",
       " \"you'd\",\n",
       " 'your',\n",
       " 'yours',\n",
       " 'yourself',\n",
       " 'yourselves',\n",
       " 'he',\n",
       " 'him',\n",
       " 'his',\n",
       " 'himself',\n",
       " 'she',\n",
       " \"she's\",\n",
       " 'her',\n",
       " 'hers',\n",
       " 'herself',\n",
       " 'it',\n",
       " \"it's\",\n",
       " 'its',\n",
       " 'itself',\n",
       " 'they',\n",
       " 'them',\n",
       " 'their',\n",
       " 'theirs',\n",
       " 'themselves',\n",
       " 'what',\n",
       " 'which',\n",
       " 'who',\n",
       " 'whom',\n",
       " 'this',\n",
       " 'that',\n",
       " \"that'll\",\n",
       " 'these',\n",
       " 'those',\n",
       " 'am',\n",
       " 'is',\n",
       " 'are',\n",
       " 'was',\n",
       " 'were',\n",
       " 'be',\n",
       " 'been',\n",
       " 'being',\n",
       " 'have',\n",
       " 'has',\n",
       " 'had',\n",
       " 'having',\n",
       " 'do',\n",
       " 'does',\n",
       " 'did',\n",
       " 'doing',\n",
       " 'a',\n",
       " 'an',\n",
       " 'the',\n",
       " 'and',\n",
       " 'but',\n",
       " 'if',\n",
       " 'or',\n",
       " 'because',\n",
       " 'as',\n",
       " 'until',\n",
       " 'while',\n",
       " 'of',\n",
       " 'at',\n",
       " 'by',\n",
       " 'for',\n",
       " 'with',\n",
       " 'about',\n",
       " 'against',\n",
       " 'between',\n",
       " 'into',\n",
       " 'through',\n",
       " 'during',\n",
       " 'before',\n",
       " 'after',\n",
       " 'above',\n",
       " 'below',\n",
       " 'to',\n",
       " 'from',\n",
       " 'up',\n",
       " 'down',\n",
       " 'in',\n",
       " 'out',\n",
       " 'on',\n",
       " 'off',\n",
       " 'over',\n",
       " 'under',\n",
       " 'again',\n",
       " 'further',\n",
       " 'then',\n",
       " 'once',\n",
       " 'here',\n",
       " 'there',\n",
       " 'when',\n",
       " 'where',\n",
       " 'why',\n",
       " 'how',\n",
       " 'all',\n",
       " 'any',\n",
       " 'both',\n",
       " 'each',\n",
       " 'few',\n",
       " 'more',\n",
       " 'most',\n",
       " 'other',\n",
       " 'some',\n",
       " 'such',\n",
       " 'no',\n",
       " 'nor',\n",
       " 'not',\n",
       " 'only',\n",
       " 'own',\n",
       " 'same',\n",
       " 'so',\n",
       " 'than',\n",
       " 'too',\n",
       " 'very',\n",
       " 's',\n",
       " 't',\n",
       " 'can',\n",
       " 'will',\n",
       " 'just',\n",
       " 'don',\n",
       " \"don't\",\n",
       " 'should',\n",
       " \"should've\",\n",
       " 'now',\n",
       " 'd',\n",
       " 'll',\n",
       " 'm',\n",
       " 'o',\n",
       " 're',\n",
       " 've',\n",
       " 'y',\n",
       " 'ain',\n",
       " 'aren',\n",
       " \"aren't\",\n",
       " 'couldn',\n",
       " \"couldn't\",\n",
       " 'didn',\n",
       " \"didn't\",\n",
       " 'doesn',\n",
       " \"doesn't\",\n",
       " 'hadn',\n",
       " \"hadn't\",\n",
       " 'hasn',\n",
       " \"hasn't\",\n",
       " 'haven',\n",
       " \"haven't\",\n",
       " 'isn',\n",
       " \"isn't\",\n",
       " 'ma',\n",
       " 'mightn',\n",
       " \"mightn't\",\n",
       " 'mustn',\n",
       " \"mustn't\",\n",
       " 'needn',\n",
       " \"needn't\",\n",
       " 'shan',\n",
       " \"shan't\",\n",
       " 'shouldn',\n",
       " \"shouldn't\",\n",
       " 'wasn',\n",
       " \"wasn't\",\n",
       " 'weren',\n",
       " \"weren't\",\n",
       " 'won',\n",
       " \"won't\",\n",
       " 'wouldn',\n",
       " \"wouldn't\"]"
      ]
     },
     "execution_count": 35,
     "metadata": {},
     "output_type": "execute_result"
    }
   ],
   "source": [
    "nltk.corpus.stopwords.words(\"english\")"
   ]
  },
  {
   "cell_type": "code",
   "execution_count": 36,
   "id": "39cab754",
   "metadata": {},
   "outputs": [
    {
     "data": {
      "text/plain": [
       "4"
      ]
     },
     "execution_count": 36,
     "metadata": {},
     "output_type": "execute_result"
    }
   ],
   "source": [
    "max_freq"
   ]
  },
  {
   "cell_type": "code",
   "execution_count": 37,
   "id": "cda0154b",
   "metadata": {},
   "outputs": [
    {
     "data": {
      "text/plain": [
       "'!\"#$%&\\'()*+,-./:;<=>?@[\\\\]^_`{|}~'"
      ]
     },
     "execution_count": 37,
     "metadata": {},
     "output_type": "execute_result"
    }
   ],
   "source": [
    "string.punctuation"
   ]
  },
  {
   "cell_type": "code",
   "execution_count": 38,
   "id": "8b1e55e3",
   "metadata": {},
   "outputs": [
    {
     "data": {
      "text/plain": [
       "'A moving average filter is sometimes called a boxcar filter especially when followed by decimationGiven a series of numbers and a fixed subset size the first element of the moving average is obtained by taking the average of the initial fixed subset of the number series Then the subset is modified by shifting forward that is excluding the first number of the series and including the next value in the subset'"
      ]
     },
     "execution_count": 38,
     "metadata": {},
     "output_type": "execute_result"
    }
   ],
   "source": [
    "nopuch"
   ]
  },
  {
   "cell_type": "code",
   "execution_count": 39,
   "id": "eaef860c",
   "metadata": {},
   "outputs": [
    {
     "name": "stdout",
     "output_type": "stream",
     "text": [
      "A moving average filter is sometimes called a boxcar filter, especially when followed by decimation.Given a series of numbers and a fixed subset size, the first element of the moving average is obtained by taking the average of the initial fixed subset of the number series.\n"
     ]
    }
   ],
   "source": [
    "print(summary)"
   ]
  }
 ],
 "metadata": {
  "kernelspec": {
   "display_name": "Python 3 (ipykernel)",
   "language": "python",
   "name": "python3"
  },
  "language_info": {
   "codemirror_mode": {
    "name": "ipython",
    "version": 3
   },
   "file_extension": ".py",
   "mimetype": "text/x-python",
   "name": "python",
   "nbconvert_exporter": "python",
   "pygments_lexer": "ipython3",
   "version": "3.11.5"
  }
 },
 "nbformat": 4,
 "nbformat_minor": 5
}
